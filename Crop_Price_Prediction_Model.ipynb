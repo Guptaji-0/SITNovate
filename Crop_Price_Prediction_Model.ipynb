{
  "nbformat": 4,
  "nbformat_minor": 0,
  "metadata": {
    "colab": {
      "provenance": []
    },
    "kernelspec": {
      "name": "python3",
      "display_name": "Python 3"
    },
    "language_info": {
      "name": "python"
    }
  },
  "cells": [
    {
      "cell_type": "code",
      "source": [
        "!pip install catboost"
      ],
      "metadata": {
        "colab": {
          "base_uri": "https://localhost:8080/"
        },
        "collapsed": true,
        "id": "RWUNezmWwqF1",
        "outputId": "85d8fd73-720a-4462-c407-659b04cdc86a"
      },
      "execution_count": 2,
      "outputs": [
        {
          "output_type": "stream",
          "name": "stdout",
          "text": [
            "Collecting catboost\n",
            "  Downloading catboost-1.2.7-cp311-cp311-manylinux2014_x86_64.whl.metadata (1.2 kB)\n",
            "Requirement already satisfied: graphviz in /usr/local/lib/python3.11/dist-packages (from catboost) (0.20.3)\n",
            "Requirement already satisfied: matplotlib in /usr/local/lib/python3.11/dist-packages (from catboost) (3.10.0)\n",
            "Requirement already satisfied: numpy<2.0,>=1.16.0 in /usr/local/lib/python3.11/dist-packages (from catboost) (1.26.4)\n",
            "Requirement already satisfied: pandas>=0.24 in /usr/local/lib/python3.11/dist-packages (from catboost) (2.2.2)\n",
            "Requirement already satisfied: scipy in /usr/local/lib/python3.11/dist-packages (from catboost) (1.13.1)\n",
            "Requirement already satisfied: plotly in /usr/local/lib/python3.11/dist-packages (from catboost) (5.24.1)\n",
            "Requirement already satisfied: six in /usr/local/lib/python3.11/dist-packages (from catboost) (1.17.0)\n",
            "Requirement already satisfied: python-dateutil>=2.8.2 in /usr/local/lib/python3.11/dist-packages (from pandas>=0.24->catboost) (2.8.2)\n",
            "Requirement already satisfied: pytz>=2020.1 in /usr/local/lib/python3.11/dist-packages (from pandas>=0.24->catboost) (2025.1)\n",
            "Requirement already satisfied: tzdata>=2022.7 in /usr/local/lib/python3.11/dist-packages (from pandas>=0.24->catboost) (2025.1)\n",
            "Requirement already satisfied: contourpy>=1.0.1 in /usr/local/lib/python3.11/dist-packages (from matplotlib->catboost) (1.3.1)\n",
            "Requirement already satisfied: cycler>=0.10 in /usr/local/lib/python3.11/dist-packages (from matplotlib->catboost) (0.12.1)\n",
            "Requirement already satisfied: fonttools>=4.22.0 in /usr/local/lib/python3.11/dist-packages (from matplotlib->catboost) (4.56.0)\n",
            "Requirement already satisfied: kiwisolver>=1.3.1 in /usr/local/lib/python3.11/dist-packages (from matplotlib->catboost) (1.4.8)\n",
            "Requirement already satisfied: packaging>=20.0 in /usr/local/lib/python3.11/dist-packages (from matplotlib->catboost) (24.2)\n",
            "Requirement already satisfied: pillow>=8 in /usr/local/lib/python3.11/dist-packages (from matplotlib->catboost) (11.1.0)\n",
            "Requirement already satisfied: pyparsing>=2.3.1 in /usr/local/lib/python3.11/dist-packages (from matplotlib->catboost) (3.2.1)\n",
            "Requirement already satisfied: tenacity>=6.2.0 in /usr/local/lib/python3.11/dist-packages (from plotly->catboost) (9.0.0)\n",
            "Downloading catboost-1.2.7-cp311-cp311-manylinux2014_x86_64.whl (98.7 MB)\n",
            "\u001b[2K   \u001b[90m━━━━━━━━━━━━━━━━━━━━━━━━━━━━━━━━━━━━━━━━\u001b[0m \u001b[32m98.7/98.7 MB\u001b[0m \u001b[31m8.9 MB/s\u001b[0m eta \u001b[36m0:00:00\u001b[0m\n",
            "\u001b[?25hInstalling collected packages: catboost\n",
            "Successfully installed catboost-1.2.7\n"
          ]
        }
      ]
    },
    {
      "cell_type": "code",
      "execution_count": 3,
      "metadata": {
        "id": "0O2NYILWc7_I"
      },
      "outputs": [],
      "source": [
        "import numpy as np\n",
        "import pandas as pd\n",
        "\n",
        "from sklearn.model_selection import train_test_split\n",
        "from sklearn.preprocessing import StandardScaler\n",
        "\n",
        "from sklearn.linear_model import LinearRegression, Ridge, Lasso\n",
        "from sklearn.neighbors import KNeighborsRegressor\n",
        "from sklearn.neural_network import MLPRegressor\n",
        "from sklearn.svm import LinearSVR, SVR\n",
        "from sklearn.tree import DecisionTreeRegressor\n",
        "from sklearn.ensemble import RandomForestRegressor, GradientBoostingRegressor\n",
        "from xgboost import XGBRegressor\n",
        "from lightgbm import LGBMRegressor\n",
        "from catboost import CatBoostRegressor"
      ]
    },
    {
      "cell_type": "code",
      "source": [
        "data = pd.read_csv('/content/Expanded_Crop_price.csv')"
      ],
      "metadata": {
        "id": "DxE7HBylwxrC"
      },
      "execution_count": 6,
      "outputs": []
    },
    {
      "cell_type": "code",
      "source": [
        "data.info()"
      ],
      "metadata": {
        "colab": {
          "base_uri": "https://localhost:8080/"
        },
        "id": "z7G0x9ywxwQV",
        "outputId": "ef020d71-0a3d-4fd8-e95c-66169b88759c"
      },
      "execution_count": 7,
      "outputs": [
        {
          "output_type": "stream",
          "name": "stdout",
          "text": [
            "<class 'pandas.core.frame.DataFrame'>\n",
            "RangeIndex: 1500 entries, 0 to 1499\n",
            "Data columns (total 7 columns):\n",
            " #   Column                           Non-Null Count  Dtype \n",
            "---  ------                           --------------  ----- \n",
            " 0   Vegetable                        1500 non-null   object\n",
            " 1   Season                           1500 non-null   object\n",
            " 2   Month                            1500 non-null   object\n",
            " 3   Temp                             1500 non-null   int64 \n",
            " 4   Deasaster Happen in last 3month  1500 non-null   object\n",
            " 5   Vegetable condition              1500 non-null   object\n",
            " 6   Price per kg                     1500 non-null   int64 \n",
            "dtypes: int64(2), object(5)\n",
            "memory usage: 82.2+ KB\n"
          ]
        }
      ]
    },
    {
      "cell_type": "code",
      "source": [
        "def onehot_encode(df, column):\n",
        "    df = df.copy()\n",
        "    dummies = pd.get_dummies(df[column], prefix=column)\n",
        "    df = pd.concat([df, dummies], axis=1)\n",
        "    df = df.drop(column, axis=1)\n",
        "    return df"
      ],
      "metadata": {
        "id": "G_vORHYmyBKj"
      },
      "execution_count": 8,
      "outputs": []
    },
    {
      "cell_type": "code",
      "source": [
        "def preprocess_inputs(df):\n",
        "    df = df.copy()\n",
        "\n",
        "    # Clean Vegetable condition column\n",
        "    df['Vegetable condition'] = df['Vegetable condition'].replace({'scarp': 'scrap'})\n",
        "\n",
        "    # Binary encoding\n",
        "    df['Deasaster Happen in last 3month'] = df['Deasaster Happen in last 3month'].replace({'no': 0, 'yes': 1})\n",
        "\n",
        "    # Ordinal encoding\n",
        "    df['Month'] = df['Month'].replace({\n",
        "        'jan': 1,\n",
        "        'apr': 4,\n",
        "        'july': 7,\n",
        "        'sept': 9,\n",
        "        'oct': 10,\n",
        "        'dec': 12,\n",
        "        'may': 5,\n",
        "        'aug': 8,\n",
        "        'june': 6,\n",
        "        ' ': np.NaN,\n",
        "        'march': 3\n",
        "    })\n",
        "\n",
        "    # Fill missing month values with column mode\n",
        "    df['Month'] = df['Month'].fillna(df['Month'].mode()[0])\n",
        "\n",
        "    # One-hot encoding\n",
        "    for column in ['Vegetable', 'Season', 'Vegetable condition']:\n",
        "        df = onehot_encode(df, column)\n",
        "\n",
        "    # Split df into X and y\n",
        "    y = df['Price per kg']\n",
        "    X = df.drop('Price per kg', axis=1)\n",
        "\n",
        "    # Train-test split\n",
        "    X_train, X_test, y_train, y_test = train_test_split(X, y, train_size=0.7, shuffle=True, random_state=1)\n",
        "\n",
        "    # Scale X\n",
        "    scaler = StandardScaler()\n",
        "    scaler.fit(X_train)\n",
        "    X_train = pd.DataFrame(scaler.transform(X_train), index=X_train.index, columns=X_train.columns)\n",
        "    X_test = pd.DataFrame(scaler.transform(X_test), index=X_test.index, columns=X_test.columns)\n",
        "\n",
        "    return X_train, X_test, y_train, y_test"
      ],
      "metadata": {
        "id": "7vp9lLlDysUZ"
      },
      "execution_count": 9,
      "outputs": []
    },
    {
      "cell_type": "code",
      "source": [
        "X_train, X_test, y_train, y_test = preprocess_inputs(data)"
      ],
      "metadata": {
        "colab": {
          "base_uri": "https://localhost:8080/"
        },
        "id": "sBTm9WLIyuIX",
        "outputId": "e5271faf-2f91-410c-f0c5-fccae9a8ae0d"
      },
      "execution_count": 10,
      "outputs": [
        {
          "output_type": "stream",
          "name": "stderr",
          "text": [
            "<ipython-input-9-a09c4b3ae174>:8: FutureWarning: Downcasting behavior in `replace` is deprecated and will be removed in a future version. To retain the old behavior, explicitly call `result.infer_objects(copy=False)`. To opt-in to the future behavior, set `pd.set_option('future.no_silent_downcasting', True)`\n",
            "  df['Deasaster Happen in last 3month'] = df['Deasaster Happen in last 3month'].replace({'no': 0, 'yes': 1})\n",
            "<ipython-input-9-a09c4b3ae174>:11: FutureWarning: Downcasting behavior in `replace` is deprecated and will be removed in a future version. To retain the old behavior, explicitly call `result.infer_objects(copy=False)`. To opt-in to the future behavior, set `pd.set_option('future.no_silent_downcasting', True)`\n",
            "  df['Month'] = df['Month'].replace({\n"
          ]
        }
      ]
    },
    {
      "cell_type": "code",
      "source": [
        "models = {\n",
        "    \"                     Linear Regression\": LinearRegression(),\n",
        "    \" Linear Regression (L2 Regularization)\": Ridge(),\n",
        "    \" Linear Regression (L1 Regularization)\": Lasso(),\n",
        "    \"                   K-Nearest Neighbors\": KNeighborsRegressor(),\n",
        "    \"                        Neural Network\": MLPRegressor(),\n",
        "    \"Support Vector Machine (Linear Kernel)\": LinearSVR(),\n",
        "    \"   Support Vector Machine (RBF Kernel)\": SVR(),\n",
        "    \"                         Decision Tree\": DecisionTreeRegressor(),\n",
        "    \"                         Random Forest\": RandomForestRegressor(),\n",
        "    \"                     Gradient Boosting\": GradientBoostingRegressor(),\n",
        "    \"                               XGBoost\": XGBRegressor(),\n",
        "    \"                              LightGBM\": LGBMRegressor(),\n",
        "    \"                              CatBoost\": CatBoostRegressor(verbose=0)\n",
        "}\n",
        "\n",
        "for name, model in models.items():\n",
        "    model.fit(X_train, y_train)\n",
        "    print(name + \" trained.\")"
      ],
      "metadata": {
        "colab": {
          "base_uri": "https://localhost:8080/"
        },
        "collapsed": true,
        "id": "H8pMb1Z6yw_I",
        "outputId": "2c0a6651-1a38-494f-c0dc-58c5a1d2b362"
      },
      "execution_count": 11,
      "outputs": [
        {
          "output_type": "stream",
          "name": "stdout",
          "text": [
            "                     Linear Regression trained.\n",
            " Linear Regression (L2 Regularization) trained.\n",
            " Linear Regression (L1 Regularization) trained.\n",
            "                   K-Nearest Neighbors trained.\n"
          ]
        },
        {
          "output_type": "stream",
          "name": "stderr",
          "text": [
            "/usr/local/lib/python3.11/dist-packages/sklearn/neural_network/_multilayer_perceptron.py:691: ConvergenceWarning: Stochastic Optimizer: Maximum iterations (200) reached and the optimization hasn't converged yet.\n",
            "  warnings.warn(\n"
          ]
        },
        {
          "output_type": "stream",
          "name": "stdout",
          "text": [
            "                        Neural Network trained.\n",
            "Support Vector Machine (Linear Kernel) trained.\n",
            "   Support Vector Machine (RBF Kernel) trained.\n",
            "                         Decision Tree trained.\n",
            "                         Random Forest trained.\n",
            "                     Gradient Boosting trained.\n",
            "                               XGBoost trained.\n",
            "[LightGBM] [Warning] Found whitespace in feature_names, replace with underlines\n",
            "[LightGBM] [Info] Auto-choosing row-wise multi-threading, the overhead of testing was 0.007497 seconds.\n",
            "You can set `force_row_wise=true` to remove the overhead.\n",
            "And if memory is not enough, you can set `force_col_wise=true`.\n",
            "[LightGBM] [Info] Total Bins 104\n",
            "[LightGBM] [Info] Number of data points in the train set: 1050, number of used features: 27\n",
            "[LightGBM] [Info] Start training from score 56.660952\n",
            "[LightGBM] [Warning] No further splits with positive gain, best gain: -inf\n",
            "[LightGBM] [Warning] No further splits with positive gain, best gain: -inf\n",
            "[LightGBM] [Warning] No further splits with positive gain, best gain: -inf\n",
            "[LightGBM] [Warning] No further splits with positive gain, best gain: -inf\n",
            "[LightGBM] [Warning] No further splits with positive gain, best gain: -inf\n",
            "                              LightGBM trained.\n",
            "                              CatBoost trained.\n"
          ]
        }
      ]
    },
    {
      "cell_type": "code",
      "source": [
        "for name, model in models.items():\n",
        "    print(name + \" R^2 Score: {:.5f}\".format(model.score(X_test, y_test)))"
      ],
      "metadata": {
        "colab": {
          "base_uri": "https://localhost:8080/"
        },
        "id": "Ah5fQUQpy9PQ",
        "outputId": "416a7227-29ae-433e-fc8c-49912901630c"
      },
      "execution_count": 12,
      "outputs": [
        {
          "output_type": "stream",
          "name": "stdout",
          "text": [
            "                     Linear Regression R^2 Score: 0.74874\n",
            " Linear Regression (L2 Regularization) R^2 Score: 0.74877\n",
            " Linear Regression (L1 Regularization) R^2 Score: 0.74006\n",
            "                   K-Nearest Neighbors R^2 Score: 0.91981\n",
            "                        Neural Network R^2 Score: 0.90321\n",
            "Support Vector Machine (Linear Kernel) R^2 Score: 0.68554\n",
            "   Support Vector Machine (RBF Kernel) R^2 Score: 0.36586\n",
            "                         Decision Tree R^2 Score: 0.92691\n",
            "                         Random Forest R^2 Score: 0.92694\n",
            "                     Gradient Boosting R^2 Score: 0.89686\n",
            "                               XGBoost R^2 Score: 0.92691\n",
            "                              LightGBM R^2 Score: 0.92577\n",
            "                              CatBoost R^2 Score: 0.92691\n"
          ]
        }
      ]
    },
    {
      "cell_type": "code",
      "source": [
        "import pandas as pd\n",
        "import numpy as np\n",
        "from sklearn.model_selection import train_test_split\n",
        "from sklearn.ensemble import RandomForestRegressor\n",
        "from sklearn.metrics import mean_absolute_error, mean_squared_error, r2_score\n",
        "\n",
        "# Load dataset\n",
        "df = pd.read_csv(\"Expanded_Crop_price.csv\")  # Update with correct file path\n",
        "\n",
        "# Preprocess the data using the preprocess_inputs function\n",
        "# This will handle categorical features and scaling\n",
        "X_train, X_test, y_train, y_test = preprocess_inputs(df) # Call preprocess_inputs\n",
        "\n",
        "# Train Random Forest (X_train, y_train are now preprocessed)\n",
        "model = RandomForestRegressor(n_estimators=100, random_state=42)\n",
        "model.fit(X_train, y_train)\n",
        "\n",
        "# Predictions\n",
        "y_pred = model.predict(X_test)\n",
        "\n",
        "# Evaluation Metrics\n",
        "mae = mean_absolute_error(y_test, y_pred)\n",
        "rmse = np.sqrt(mean_squared_error(y_test, y_pred))\n",
        "r2 = r2_score(y_test, y_pred)\n",
        "\n",
        "print(f\"✅ Mean Absolute Error (MAE): {mae:.2f}\")\n",
        "print(f\"✅ Root Mean Squared Error (RMSE): {rmse:.2f}\")\n",
        "print(f\"✅ R² Score: {r2:.5f}\")"
      ],
      "metadata": {
        "colab": {
          "base_uri": "https://localhost:8080/"
        },
        "id": "tCs-LtQHzv7G",
        "outputId": "c9648fc7-5fd5-45b2-d3bd-722ef0d53a48"
      },
      "execution_count": 14,
      "outputs": [
        {
          "output_type": "stream",
          "name": "stderr",
          "text": [
            "<ipython-input-9-a09c4b3ae174>:8: FutureWarning: Downcasting behavior in `replace` is deprecated and will be removed in a future version. To retain the old behavior, explicitly call `result.infer_objects(copy=False)`. To opt-in to the future behavior, set `pd.set_option('future.no_silent_downcasting', True)`\n",
            "  df['Deasaster Happen in last 3month'] = df['Deasaster Happen in last 3month'].replace({'no': 0, 'yes': 1})\n",
            "<ipython-input-9-a09c4b3ae174>:11: FutureWarning: Downcasting behavior in `replace` is deprecated and will be removed in a future version. To retain the old behavior, explicitly call `result.infer_objects(copy=False)`. To opt-in to the future behavior, set `pd.set_option('future.no_silent_downcasting', True)`\n",
            "  df['Month'] = df['Month'].replace({\n"
          ]
        },
        {
          "output_type": "stream",
          "name": "stdout",
          "text": [
            "✅ Mean Absolute Error (MAE): 7.27\n",
            "✅ Root Mean Squared Error (RMSE): 12.69\n",
            "✅ R² Score: 0.92703\n"
          ]
        }
      ]
    },
    {
      "cell_type": "code",
      "source": [
        "import pandas as pd\n",
        "import numpy as np\n",
        "from sklearn.model_selection import train_test_split\n",
        "from sklearn.preprocessing import StandardScaler, OneHotEncoder\n",
        "from sklearn.compose import ColumnTransformer\n",
        "from sklearn.ensemble import RandomForestRegressor\n",
        "\n",
        "# Load dataset\n",
        "df = pd.read_csv(\"/content/Expanded_Crop_price.csv\")\n",
        "\n",
        "# Ensure 'Price per kg' exists\n",
        "if 'Price per kg' not in df.columns:\n",
        "    raise ValueError(\"Error: 'Price per kg' column is missing from the dataset.\")\n",
        "\n",
        "# Convert 'Month' column to numerical format (Jan = 1, Feb = 2, ...)\n",
        "month_mapping = {\n",
        "    'jan': 1, 'feb': 2, 'mar': 3, 'apr': 4, 'may': 5, 'jun': 6,\n",
        "    'jul': 7, 'aug': 8, 'sep': 9, 'oct': 10, 'nov': 11, 'dec': 12,\n",
        "    'july': 7, 'sept': 9  # Handle alternate spellings\n",
        "}\n",
        "df['Month'] = df['Month'].map(month_mapping)\n",
        "\n",
        "# Handle unrecognized month values\n",
        "if df['Month'].isnull().sum() > 0:\n",
        "    df['Month'] = df['Month'].fillna(df['Month'].mode()[0])\n",
        "\n",
        "# Define features and target variable\n",
        "X = df.drop('Price per kg', axis=1)\n",
        "y = df['Price per kg']\n",
        "\n",
        "# Split dataset\n",
        "X_train, X_test, y_train, y_test = train_test_split(X, y, test_size=0.2, random_state=42)\n",
        "\n",
        "# Define categorical and numerical features\n",
        "categorical_features = ['Vegetable', 'Season', 'Vegetable condition', 'Deasaster Happen in last 3month']\n",
        "numerical_features = ['Month', 'Farm size'] if 'Farm size' in X_train.columns else ['Month']\n",
        "\n",
        "# Ensure numerical features exist\n",
        "missing_numerical_features = [feature for feature in numerical_features if feature not in X_train.columns]\n",
        "if missing_numerical_features:\n",
        "    raise ValueError(f\"Error: Missing numerical features: {missing_numerical_features}\")\n",
        "\n",
        "# Create preprocessing pipeline\n",
        "preprocessor = ColumnTransformer(\n",
        "    transformers=[\n",
        "        ('num', StandardScaler(), numerical_features),\n",
        "        ('cat', OneHotEncoder(handle_unknown='ignore', sparse_output=False), categorical_features)\n",
        "    ])\n",
        "\n",
        "# Fit and transform the data\n",
        "X_train = preprocessor.fit_transform(X_train)\n",
        "X_test = preprocessor.transform(X_test)\n",
        "\n",
        "# Train Random Forest Model\n",
        "model = RandomForestRegressor(n_estimators=100, random_state=42)\n",
        "model.fit(X_train, y_train)\n",
        "\n",
        "print(\"✅ Model training completed successfully!\")\n",
        "\n",
        "# =========================\n",
        "# 🚀 Interactive Menu for Predictions\n",
        "# =========================\n",
        "\n",
        "def predict_crop_price():\n",
        "    print(\"\\n💬 Enter details to predict crop price\\n\")\n",
        "\n",
        "    # Dropdown options\n",
        "    vegetable_options = df['Vegetable'].unique().tolist()\n",
        "    season_options = df['Season'].unique().tolist()\n",
        "    condition_options = df['Vegetable condition'].unique().tolist()\n",
        "    disaster_options = df['Deasaster Happen in last 3month'].unique().tolist()\n",
        "\n",
        "    # User Input\n",
        "    vegetable = input(f\"🌱 Select Vegetable {vegetable_options}: \").strip()\n",
        "    season = input(f\"🗓️ Select Season {season_options}: \").strip()\n",
        "    condition = input(f\"🥦 Select Vegetable Condition {condition_options}: \").strip()\n",
        "    disaster = input(f\"🌍 Any Disaster in Last 3 Months {disaster_options}: \").strip()\n",
        "\n",
        "    # Month Input\n",
        "    month_name = input(\"📅 Enter Month (e.g., jan, feb, mar, apr): \").strip().lower()\n",
        "    month = month_mapping.get(month_name, None)\n",
        "    if month is None:\n",
        "        print(f\"⚠️ Invalid month '{month_name}', defaulting to January.\")\n",
        "        month = 1\n",
        "\n",
        "\n",
        "\n",
        "    # Create input dataframe\n",
        "    input_data = pd.DataFrame({\n",
        "        'Vegetable': [vegetable],\n",
        "        'Season': [season],\n",
        "        'Vegetable condition': [condition],\n",
        "        'Deasaster Happen in last 3month': [disaster],\n",
        "        'Month': [month]\n",
        "\n",
        "    })\n",
        "\n",
        "    # Preprocess input data\n",
        "    input_data = preprocessor.transform(input_data)\n",
        "\n",
        "    # Predict\n",
        "    predicted_price = model.predict(input_data)[0]\n",
        "    print(f\"\\n💰 Predicted Crop Price: ₹{predicted_price:.2f} per kg\\n\")\n",
        "\n",
        "# Run prediction\n",
        "predict_crop_price()\n"
      ],
      "metadata": {
        "colab": {
          "base_uri": "https://localhost:8080/"
        },
        "id": "MSbcqSWX6fz4",
        "outputId": "631eda50-036f-4723-a628-00f4990deed1"
      },
      "execution_count": 46,
      "outputs": [
        {
          "output_type": "stream",
          "name": "stdout",
          "text": [
            "✅ Model training completed successfully!\n",
            "\n",
            "💬 Enter details to predict crop price\n",
            "\n",
            "🌱 Select Vegetable ['potato', 'tomato ', 'peas', 'pumkin', 'cucumber', 'pointed grourd ', 'Raddish', 'Bitter gourd', 'onion', 'garlic', 'cabage', 'califlower', 'chilly', 'okra', 'brinjal', 'ginger', 'radish']: potato\n",
            "🗓️ Select Season ['winter', 'summer', 'monsoon', 'autumn', 'spring']: monsoon\n",
            "🥦 Select Vegetable Condition ['fresh', 'scrap', 'avarage', 'scarp']: avarage\n",
            "🌍 Any Disaster in Last 3 Months ['no', 'yes']: yes\n",
            "📅 Enter Month (e.g., jan, feb, mar, apr): sept\n",
            "\n",
            "💰 Predicted Crop Price: ₹56.02 per kg\n",
            "\n"
          ]
        }
      ]
    }
  ]
}